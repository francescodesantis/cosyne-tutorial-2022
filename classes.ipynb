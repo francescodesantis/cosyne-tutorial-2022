{
 "cells": [
  {
   "cell_type": "code",
   "execution_count": 1,
   "id": "3a493bb5-89be-47f3-96ea-835eecd9db39",
   "metadata": {},
   "outputs": [],
   "source": [
    "import random\n",
    "import numpy as np"
   ]
  },
  {
   "cell_type": "code",
   "execution_count": 14,
   "id": "89f4ee03-e0f4-452b-9cac-122bc493ec81",
   "metadata": {},
   "outputs": [],
   "source": [
    "\n",
    "nome_file = ''"
   ]
  },
  {
   "cell_type": "code",
   "execution_count": 3,
   "id": "a0b593a7-7eef-405c-99e8-42da5d054555",
   "metadata": {},
   "outputs": [],
   "source": [
    "class urna:\n",
    "    def __init__(self):\n",
    "        self.biglietti = []\n",
    "        self.estratti = []\n",
    "    def __str__(self):\n",
    "        return \"Biglietti:\" + str(self.biglietti) + \"\\nEstratti:\" + str(self.estratti) \n",
    "    def riempi(self, num_biglietti):\n",
    "        self.biglietti = []\n",
    "        for i in range(num_biglietti):\n",
    "            self.biglietti.append(i)\n",
    "    def mescola(self):\n",
    "        random.shuffle(self.biglietti)\n",
    "    def estrai(self):\n",
    "        ext = random.choice(self.biglietti)\n",
    "        self.estratti.append(ext)\n",
    "        self.biglietti.remove(ext)\n",
    "        return ext\n",
    "    def ultimo_estratto(self):\n",
    "        return self.estratti[-1]\n",
    "    def da_estrarre(self):\n",
    "        return self.biglietti\n",
    "    def vuoto(self):\n",
    "        if not(self.biglietti):\n",
    "            return(True)\n",
    "        else:\n",
    "            return(False)"
   ]
  },
  {
   "cell_type": "code",
   "execution_count": 15,
   "id": "19fc5132-da99-4020-9977-def4f352d737",
   "metadata": {},
   "outputs": [],
   "source": [
    "def main():\n",
    "    numBiglietti = 10\n",
    "    input_num_biglietti = input(\"Inserisci il numero di biglietti da inserire nell'urna: \")\n",
    "    if input_num_biglietti.isdigit():\n",
    "        numBiglietti = int(input_num_biglietti)\n",
    "    else:\n",
    "        print(\"Errore: Il numero di biglietti deve essere un intero.\")\n",
    "\n",
    "\n",
    "    input_nome_file = input(\"Inserisci il nome del file dove salvare le estrazioni (vuoto per stampare a video): \")\n",
    "    if input_nome_file:\n",
    "        nome_file = input_nome_file\n",
    "    \n",
    "    a = urna()\n",
    "    a.riempi(numBiglietti)\n",
    "    \n",
    "    \n",
    "    while(a.vuoto()!=True):\n",
    "        a.mescola() #non ha senso che poi tanto estraee a caso ma vabbe\n",
    "        a.estrai()\n",
    "    \n",
    "    print(a.estratti)\n",
    "    \n",
    "    if nome_file:\n",
    "        with open(nome_file, 'w') as f:\n",
    "            for estratto in a.estratti:\n",
    "                f.write(str(estratto) + '\\n')\n",
    "        print(f\"Le estrazioni sono state salvate nel file {nome_file}.\")\n",
    "    else:\n",
    "        print(\"Le estrazioni sono state stampate a video.\")"
   ]
  },
  {
   "cell_type": "code",
   "execution_count": 16,
   "id": "d5b05dcb-964e-4d55-8678-6226b49f130c",
   "metadata": {},
   "outputs": [
    {
     "name": "stdin",
     "output_type": "stream",
     "text": [
      "Inserisci il numero di biglietti da inserire nell'urna:  \n"
     ]
    },
    {
     "name": "stdout",
     "output_type": "stream",
     "text": [
      "Errore: Il numero di biglietti deve essere un intero.\n"
     ]
    },
    {
     "name": "stdin",
     "output_type": "stream",
     "text": [
      "Inserisci il nome del file dove salvare le estrazioni (vuoto per stampare a video):  ciao\n"
     ]
    },
    {
     "name": "stdout",
     "output_type": "stream",
     "text": [
      "[2, 3, 0, 5, 4, 9, 7, 6, 1, 8]\n",
      "Le estrazioni sono state salvate nel file ciao.\n"
     ]
    }
   ],
   "source": [
    "if __name__ == '__main__':\n",
    "    main()"
   ]
  },
  {
   "cell_type": "code",
   "execution_count": null,
   "id": "a9052cef-4234-4186-a8ea-f6276c6e05c9",
   "metadata": {},
   "outputs": [],
   "source": []
  }
 ],
 "metadata": {
  "kernelspec": {
   "display_name": "Python 3 (ipykernel)",
   "language": "python",
   "name": "python3"
  },
  "language_info": {
   "codemirror_mode": {
    "name": "ipython",
    "version": 3
   },
   "file_extension": ".py",
   "mimetype": "text/x-python",
   "name": "python",
   "nbconvert_exporter": "python",
   "pygments_lexer": "ipython3",
   "version": "3.8.10"
  }
 },
 "nbformat": 4,
 "nbformat_minor": 5
}
