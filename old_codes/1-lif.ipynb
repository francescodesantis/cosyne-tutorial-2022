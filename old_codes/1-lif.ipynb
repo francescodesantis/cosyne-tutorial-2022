{
 "cells": [
  {
   "cell_type": "markdown",
   "id": "f0a58874",
   "metadata": {},
   "source": [
    "# The Leaky Integrate-and-Fire (LIF) neuron\n",
    "\n",
    "This notebook shows some pure Python code to simulate and interactively play with a leaky integrate-and-fire neuron."
   ]
  },
  {
   "cell_type": "markdown",
   "id": "e94ff173",
   "metadata": {},
   "source": [
    "## The mathematics of the model\n",
    "\n",
    "The neuron model is as follows. There is a single variable $V$ for the neuron, its membrane potential (the potential difference between the inside and outside of the cell). In the absence of any input, the variable evolves over time according to the differential equation\n",
    "\n",
    "$$\n",
    "\\tau \\frac{\\mathrm{d}V}{\\mathrm{d}t} = -V.\n",
    "$$\n",
    "\n",
    "Here the constant $\\tau$ is the time constant of the neuron, and controls how quickly the neuron integrates its inputs. You can easily solve this differential equation to get\n",
    "\n",
    "$$\n",
    "V(t) = V(0) e^{-t/\\tau}.\n",
    "$$\n",
    "\n",
    "In other words, $V$ exponentially decays to the value 0, and the smaller $\\tau$ is the faster it does it. You can verify this with the interactive widget below.\n",
    "\n",
    "If the neuron receives an incoming spike with synaptic weight $w$, the membrane potential instantly increases by $w$, i.e.\n",
    "\n",
    "$$V\\leftarrow V+w.$$\n",
    "\n",
    "In the interactive widget below, incoming spikes arrive at times $t_0$, $t_1$ and $t_2$, which you can change to see the effect.\n",
    "\n",
    "If one of the incoming spikes causes $V$ to cross a *threshold* value, sometimes written as $V_t$, then the neuron will fire a spike, and instantaneously reset to the *reset* value $V_r$. In equations:\n",
    "\n",
    "$$\n",
    "\\mbox{If } V>V_t \\mbox{ then fire a spike and } V\\leftarrow V_r.\n",
    "$$\n",
    "\n",
    "The net effect of all of this is that when $\\tau$ is large, the neuron acts as an *integrator*, summing its inputs and firing when they reach some threshold. If $\\tau$ is small, the neuron acts as a *coincidence detector*, firing a spike only if two or more inputs arrive simultaneously."
   ]
  },
  {
   "cell_type": "markdown",
   "id": "febd51da",
   "metadata": {},
   "source": [
    "## Implementation details\n",
    "\n",
    "To integrate this code, we do something like the following pseudocode:\n",
    "\n",
    "```\n",
    "for each time period t:\n",
    "    Update V from value at time t to value at time t+dt\n",
    "    Process any incoming spikes\n",
    "    Check if V crossed the threshold\n",
    "    If so:\n",
    "        Emit a spike\n",
    "        Reset V\n",
    "```\n",
    "\n",
    "In this single neuron case, we don't need to handle propagating the output spike to other neurons because there are none, we just record that it happened.\n",
    "\n",
    "To update the value of $V(t)$ to $V(t+\\mathrm{d}t)$ we use the equation from the section above to get\n",
    "\n",
    "$$V(t+\\mathrm{d}t)=V(t)e^{-\\mathrm{d}t/\\tau}.$$\n",
    "\n",
    "Note that the quantity $\\alpha=e^{-\\mathrm{d}t/\\tau}$ doesn't depend on the time $t$ or the membrane potential $V$ so we can just calculate it once outside the loop and then just update $V(t+\\mathrm{d}t)=\\alpha V(t)$.\n",
    "\n",
    "In subsequent notebooks, I'll use the \"Brian\" spiking neural network simulator, but I wanted to show how simple the basic simulation loop is."
   ]
  },
  {
   "cell_type": "code",
   "execution_count": 1,
   "id": "e36601db",
   "metadata": {},
   "outputs": [],
   "source": [
    "# Imports\n",
    "try:\n",
    "    import ipywidgets as widgets\n",
    "except ImportError:\n",
    "    widgets = None\n",
    "    \n",
    "#%matplotlib inline\n",
    "import numpy as np\n",
    "import matplotlib.pyplot as plt\n",
    "from IPython.display import display"
   ]
  },
  {
   "cell_type": "code",
   "execution_count": 2,
   "id": "6fa0492a",
   "metadata": {},
   "outputs": [
    {
     "data": {
      "application/vnd.jupyter.widget-view+json": {
       "model_id": "07e46c4ee88941c3b4c1e4c570ffad48",
       "version_major": 2,
       "version_minor": 0
      },
      "text/plain": [
       "interactive(children=(IntSlider(value=50, description='tau', min=1), IntSlider(value=20, description='t0'), In…"
      ]
     },
     "metadata": {},
     "output_type": "display_data"
    }
   ],
   "source": [
    "fig = plt.figure(figsize=(5, 4))\n",
    "ax = plt.subplot(111)\n",
    "plt.close(fig)\n",
    "\n",
    "# Function that runs the simulation\n",
    "# tau: time constant (in ms)\n",
    "# t0, t1, t2: time of three input spikes\n",
    "# w: input synapse weight\n",
    "# threshold: threshold value to produce a spike\n",
    "# reset: reset value after a spike\n",
    "def LIF(tau=10, t0=20, t1=40, t2=60, w=0.1, threshold=1.0, reset=0.0):\n",
    "    # Spike times, keep sorted because it's more efficient to pop the last value off the list\n",
    "    times = [t0, t1, t2]\n",
    "    times.sort(reverse=True)\n",
    "    # set some default parameters\n",
    "    duration = 100 # total time in ms\n",
    "    dt = 0.1 # timestep in ms\n",
    "    alpha = np.exp(-dt/tau) # this is the factor by which V decays each time step\n",
    "    V_rec = [] # list to record membrane potentials\n",
    "    V = 0.0 # initial membrane potential\n",
    "    T = np.arange(np.round(duration/dt))*dt # array of times\n",
    "    spikes = [] # list to store spike times\n",
    "    # run the simulation\n",
    "    for t in T:\n",
    "        V_rec.append(V) # record\n",
    "        V *= alpha # integrate equations\n",
    "        if times and t>times[-1]: # if there has been an input spike\n",
    "            V += w\n",
    "            times.pop() # remove that spike from list\n",
    "        V_rec.append(V) # record V before the reset so we can see the spike\n",
    "        if V>threshold: # if there should be an output spike\n",
    "            V = reset\n",
    "            spikes.append(t)\n",
    "    # plot everything (T is repeated because we record V twice per loop)\n",
    "    ax.clear()\n",
    "    for t in times:\n",
    "        ax.axvline(t, ls=':', c='b')\n",
    "    ax.plot(np.repeat(T, 2), V_rec, '-k', lw=2)\n",
    "    for t in spikes:\n",
    "        ax.axvline(t, ls='--', c='r')\n",
    "    ax.axhline(threshold, ls='--', c='g')\n",
    "    ax.set_xlim(0, duration)\n",
    "    ax.set_ylim(-1, 2)\n",
    "    ax.set_xlabel('Time (ms)')\n",
    "    ax.set_ylabel('V')\n",
    "    plt.tight_layout()\n",
    "    display(fig);\n",
    "    \n",
    "# Create an interactive widget\n",
    "widgets.interact(LIF,\n",
    "    tau=widgets.IntSlider(min=1, max=100, value=50),\n",
    "    t0=widgets.IntSlider(min=0, max=100, value=20),\n",
    "    t1=widgets.IntSlider(min=0, max=100, value=40),\n",
    "    t2=widgets.IntSlider(min=0, max=100, value=60),\n",
    "    w=widgets.FloatSlider(min=-1, max=2, step=0.05, value=0.5),\n",
    "    threshold=widgets.FloatSlider(min=0.0, max=2.0, step=0.05, value=1.0),\n",
    "    reset=widgets.FloatSlider(min=-1.0, max=1.0, step=0.05, value=0.0),\n",
    "    );"
   ]
  },
  {
   "cell_type": "markdown",
   "id": "084582b3",
   "metadata": {},
   "source": [
    "## Exercise\n",
    "\n",
    "We won't go through this exercise in detail in the tutorial, but feel free to have a go to help understand the model better. I'll put the solution in a companion notebook.\n",
    "\n",
    "Modify the neuron model to have an adaptive threshold. Add an additional dynamic variable (not constant) $V_t$ that evolves according to the differential equation\n",
    "\n",
    "$$\\tau_t\\frac{\\mathrm{d}V_t}{\\mathrm{d}t} = -(V_t-V_t^0)$$\n",
    "\n",
    "for a constant equilibrium threshold $V_t^0$ and adaptation time constant $\\tau_t$. The neuron fires a spike if $V>V_t$ and in addition to resetting the neuron's membrane potential $V\\leftarrow V_r$ we also increase the threshold $V_t\\leftarrow V_t+\\delta V_t$ for some constant $\\delta V_t$, making it harder for the neuron to fire in response to the next spike. Verify that you can set up the parameters so that two identical incoming spikes will cause the neuron to fire in response to the first but not second spike."
   ]
  },
  {
   "cell_type": "markdown",
   "id": "c22f2fe6",
   "metadata": {},
   "source": [
    "## Solution to exercise (will be split into a separate notebook when finalised)"
   ]
  },
  {
   "cell_type": "code",
   "execution_count": 3,
   "id": "3d706c55",
   "metadata": {},
   "outputs": [
    {
     "data": {
      "application/vnd.jupyter.widget-view+json": {
       "model_id": "bdd995093e354af9a7ab64fbe0e33961",
       "version_major": 2,
       "version_minor": 0
      },
      "text/plain": [
       "interactive(children=(IntSlider(value=50, description='tau', min=5, step=5), IntSlider(value=100, description=…"
      ]
     },
     "metadata": {},
     "output_type": "display_data"
    }
   ],
   "source": [
    "# Figure/axis we'll use to plot on\n",
    "fig = plt.figure(figsize=(5, 4))\n",
    "ax = plt.subplot(111)\n",
    "plt.close(fig)\n",
    "\n",
    "# Function that runs the simulation\n",
    "# tau: time constant (in ms)\n",
    "# t0, t1, t2: time of three input spikes\n",
    "# w: input synapse weight\n",
    "# threshold: threshold value to produce a spike\n",
    "# reset: reset value after a spike\n",
    "def LIF(tau=10, taut=20, t0=20, t1=40, t2=60, w=0.1, threshold=1.0, dthreshold=0.5, reset=0.0):\n",
    "    # Spike times, keep sorted because it's more efficient to pop the last value off the list\n",
    "    times = [t0, t1, t2]\n",
    "    times.sort(reverse=True)\n",
    "    # set some default parameters\n",
    "    duration = 100 # total time in ms\n",
    "    dt = 0.1 # timestep in ms\n",
    "    alpha = np.exp(-dt/tau) # this is the factor by which V decays each time step\n",
    "    beta = np.exp(-dt/taut) # this is the factor by which Vt decays each time step\n",
    "    V_rec = [] # list to record membrane potentials\n",
    "    Vt_rec = [] # list to record threshold values\n",
    "    V = 0.0 # initial membrane potential\n",
    "    Vt = threshold\n",
    "    T = np.arange(np.round(duration/dt))*dt # array of times\n",
    "    spikes = [] # list to store spike times\n",
    "    # clear the axis and plot the spike times\n",
    "    ax.clear()\n",
    "    for t in times:\n",
    "        ax.axvline(t, ls=':', c='b')\n",
    "    # run the simulation\n",
    "    for t in T:\n",
    "        V_rec.append(V) # record\n",
    "        Vt_rec.append(Vt)\n",
    "        V *= alpha # integrate equations\n",
    "        Vt = (Vt-threshold)*beta+threshold\n",
    "        if times and t>times[-1]: # if there has been an input spike\n",
    "            V += w\n",
    "            times.pop() # remove that spike from list\n",
    "        V_rec.append(V) # record V before the reset so we can see the spike\n",
    "        Vt_rec.append(Vt)\n",
    "        if V>Vt: # if there should be an output spike\n",
    "            V = reset\n",
    "            Vt += dthreshold\n",
    "            spikes.append(t)\n",
    "    # plot everything (T is repeated because we record V twice per loop)\n",
    "    ax.plot(np.repeat(T, 2), V_rec, '-k', lw=2)\n",
    "    ax.plot(np.repeat(T, 2), Vt_rec, '--g', lw=2)\n",
    "    for t in spikes:\n",
    "        ax.axvline(t, ls='--', c='r')\n",
    "    ax.set_xlim(0, duration)\n",
    "    ax.set_ylim(-1, 2)\n",
    "    ax.set_xlabel('Time (ms)')\n",
    "    ax.set_ylabel('V')\n",
    "    plt.tight_layout()\n",
    "    display(fig)\n",
    "    \n",
    "# Create an interactive widget\n",
    "widgets.interact(LIF,\n",
    "    tau=widgets.IntSlider(min=5, max=100, value=50, step=5),\n",
    "    taut=widgets.IntSlider(min=5, max=100, value=100, step=5),\n",
    "    t0=widgets.IntSlider(min=0, max=100, value=20),\n",
    "    t1=widgets.IntSlider(min=0, max=100, value=40),\n",
    "    t2=widgets.IntSlider(min=0, max=100, value=60),\n",
    "    w=widgets.FloatSlider(min=-1, max=2, step=0.05, value=0.5),\n",
    "    threshold=widgets.FloatSlider(min=0.0, max=2.0, step=0.05, value=1.0),\n",
    "    dthreshold=widgets.FloatSlider(min=0.0, max=1.0, step=0.05, value=0.5),\n",
    "    reset=widgets.FloatSlider(min=-1.0, max=1.0, step=0.05, value=0.0),\n",
    "    );"
   ]
  }
 ],
 "metadata": {
  "kernelspec": {
   "display_name": "Python 3 (ipykernel)",
   "language": "python",
   "name": "python3"
  },
  "language_info": {
   "codemirror_mode": {
    "name": "ipython",
    "version": 3
   },
   "file_extension": ".py",
   "mimetype": "text/x-python",
   "name": "python",
   "nbconvert_exporter": "python",
   "pygments_lexer": "ipython3",
   "version": "3.8.10"
  }
 },
 "nbformat": 4,
 "nbformat_minor": 5
}
