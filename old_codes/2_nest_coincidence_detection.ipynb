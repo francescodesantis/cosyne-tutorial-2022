{
 "cells": [
  {
   "cell_type": "code",
   "execution_count": 1511,
   "id": "0248001b-e02a-495f-9fec-bc967ecf42f2",
   "metadata": {},
   "outputs": [],
   "source": [
    "import numpy as np\n",
    "import nest\n",
    "import nest.raster_plot\n",
    "import matplotlib.pyplot as plt\n",
    "from statistics import median_high, median_low"
   ]
  },
  {
   "cell_type": "code",
   "execution_count": 1513,
   "id": "8b36bcf1-1ecf-4158-b2a6-031aaa804f26",
   "metadata": {},
   "outputs": [
    {
     "name": "stdout",
     "output_type": "stream",
     "text": [
      "\n",
      "Feb 22 19:36:39 SimulationManager::set_status [Info]: \n",
      "    Temporal resolution changed from 0.1 to 0.1 ms.\n"
     ]
    }
   ],
   "source": [
    "nest.ResetKernel()\n",
    "nest.resolution = 0.1\n",
    "\n",
    "ipds = [0,45,90,135,180,225,270,315,360]\n",
    "ipd = ipds[3]\n",
    "\n",
    "t_simulation = 1000\n",
    "rate_max = 104000.0\n",
    "f = 3.0\n",
    "\n",
    "n_cd = 100\n",
    "cd_tau_m = 4.0\n",
    "cd_c_m = 250.0\n",
    "cd_tau_syn_ex = 1.65\n",
    "cd_v_th = -55.0\n",
    "\n",
    "rate_max_single_ear = 208000.0 #rate doubled to see the effect of the single ears\n",
    "d_factor = 1"
   ]
  },
  {
   "cell_type": "code",
   "execution_count": 1514,
   "id": "6ee84ec5-bb73-4e06-a4ac-2796bb8be9ee",
   "metadata": {},
   "outputs": [
    {
     "name": "stdout",
     "output_type": "stream",
     "text": [
      "\n",
      "Feb 22 19:36:39 NodeManager::prepare_nodes [Info]: \n",
      "    Preparing 106 nodes for simulation.\n",
      "\n",
      "Feb 22 19:36:39 SimulationManager::start_updating_ [Info]: \n",
      "    Number of local nodes: 106\n",
      "    Simulation time (ms): 1000\n",
      "    Number of OpenMP threads: 1\n",
      "    Number of MPI processes: 1\n",
      "\n",
      "Feb 22 19:36:40 SimulationManager::run [Info]: \n",
      "    Simulation finished.\n",
      "\n",
      "Feb 22 19:36:40 SimulationManager::set_status [Info]: \n",
      "    Temporal resolution changed from 0.1 to 0.1 ms.\n",
      "\n",
      "Feb 22 19:36:40 NodeManager::prepare_nodes [Info]: \n",
      "    Preparing 102 nodes for simulation.\n",
      "\n",
      "Feb 22 19:36:40 SimulationManager::start_updating_ [Info]: \n",
      "    Number of local nodes: 102\n",
      "    Simulation time (ms): 1000\n",
      "    Number of OpenMP threads: 1\n",
      "    Number of MPI processes: 1\n",
      "\n",
      "Feb 22 19:36:41 SimulationManager::run [Info]: \n",
      "    Simulation finished.\n",
      "\n",
      "Feb 22 19:36:41 SimulationManager::set_status [Info]: \n",
      "    Temporal resolution changed from 0.1 to 0.1 ms.\n",
      "\n",
      "Feb 22 19:36:41 NodeManager::prepare_nodes [Info]: \n",
      "    Preparing 102 nodes for simulation.\n",
      "\n",
      "Feb 22 19:36:41 SimulationManager::start_updating_ [Info]: \n",
      "    Number of local nodes: 102\n",
      "    Simulation time (ms): 1000\n",
      "    Number of OpenMP threads: 1\n",
      "    Number of MPI processes: 1\n",
      "\n",
      "Feb 22 19:36:41 SimulationManager::run [Info]: \n",
      "    Simulation finished.\n"
     ]
    }
   ],
   "source": [
    "ear = nest.Create('sinusoidal_poisson_generator', n=2,\n",
    "                params={'rate': [rate_max/2, rate_max/2],\n",
    "                        'amplitude': [rate_max/2, rate_max/2],\n",
    "                        'frequency': [f, f],\n",
    "                        'phase': [0.0, ipd]})\n",
    "\n",
    "\n",
    "best_itds = np.array(np.linspace(0.1, (1/f)*1000/d_factor, n_cd))\n",
    "best_ipds = best_itds*2*np.pi*f/1000\n",
    "syn_delays = np.transpose([np.ones(n_cd)/10, best_itds])\n",
    "\n",
    "cd = nest.Create('iaf_psc_alpha', n_cd,\n",
    "                params={'tau_m':cd_tau_m,\n",
    "                        'C_m': cd_c_m,\n",
    "                        'tau_syn_ex': cd_tau_syn_ex,\n",
    "                        'V_th': cd_v_th\n",
    "                } )\n",
    "syn_spec_dict ={'delay':syn_delays}\n",
    "nest.Connect(ear, cd, syn_spec=syn_spec_dict)\n",
    "\n",
    "\n",
    "m0 = nest.Create('multimeter', {'interval': 0.1, 'record_from': ['rate']})\n",
    "s0 = nest.Create('spike_recorder')\n",
    "s1 = nest.Create('spike_recorder')\n",
    "m1 = nest.Create('multimeter', {'interval': 0.1, 'record_from': ['V_m']})\n",
    "\n",
    "nest.Connect(m0, ear, 'all_to_all')\n",
    "nest.Connect(ear, s0, 'all_to_all')\n",
    "nest.Connect(cd, s1, 'all_to_all')\n",
    "nest.Connect(m1, cd, 'all_to_all')\n",
    "\n",
    "nest.Simulate(t_simulation)\n",
    "m0_data = m0.get(\"events\")\n",
    "s0_data = s0.get(\"events\")\n",
    "m1_data = m1.get(\"events\")\n",
    "s1_data = s1.get(\"events\")\n",
    "\n",
    "############################\n",
    "nest.ResetKernel()\n",
    "nest.resolution = 0.1\n",
    "rate_max = 100000.0\n",
    "ear1 = nest.Create('sinusoidal_poisson_generator',\n",
    "                params={'rate': rate_max_single_ear/2,\n",
    "                        'amplitude': rate_max_single_ear/2,\n",
    "                        'frequency': f,\n",
    "                        'phase': 0.0})\n",
    "cd = nest.Create('iaf_psc_alpha', n_cd,\n",
    "                params={'tau_m':cd_tau_m,\n",
    "                        'C_m': cd_c_m,\n",
    "                        'tau_syn_ex': cd_tau_syn_ex,\n",
    "                        'V_th': cd_v_th})\n",
    "syn_spec_dict ={'delay':0.1}\n",
    "nest.Connect(ear1, cd, syn_spec=syn_spec_dict)\n",
    "s2 = nest.Create('spike_recorder')\n",
    "nest.Connect(cd, s2, 'all_to_all')\n",
    "nest.Simulate(t_simulation)\n",
    "s2_data = s2.get(\"events\")\n",
    "############################\n",
    "nest.ResetKernel()\n",
    "nest.resolution = 0.1\n",
    "ear2 = nest.Create('sinusoidal_poisson_generator',\n",
    "                params={'rate': rate_max_single_ear/2,\n",
    "                        'amplitude': rate_max_single_ear/2,\n",
    "                        'frequency': f,\n",
    "                        'phase': ipd})\n",
    "best_itds = np.array(np.linspace(0.1, (1/f)*1000/d_factor, n_cd))\n",
    "cd = nest.Create('iaf_psc_alpha', n_cd,\n",
    "                 params={'tau_m':cd_tau_m,\n",
    "                        'C_m': cd_c_m,\n",
    "                        'tau_syn_ex': cd_tau_syn_ex,\n",
    "                        'V_th': cd_v_th})\n",
    "                        \n",
    "syn_spec_dict ={'delay':best_itds}\n",
    "nest.Connect(np.ones(n_cd, dtype = int), cd,'one_to_one', syn_spec=syn_spec_dict)\n",
    "s3 = nest.Create('spike_recorder')\n",
    "nest.Connect(cd, s3, 'all_to_all')\n",
    "nest.Simulate(t_simulation)\n",
    "s3_data = s3.get(\"events\")"
   ]
  },
  {
   "cell_type": "code",
   "execution_count": 1515,
   "id": "fdaa3ea7-940b-431c-9541-cc846ead5aed",
   "metadata": {},
   "outputs": [
    {
     "name": "stdout",
     "output_type": "stream",
     "text": [
      "real IPD: 2.36 rad, 135 deg\n",
      "predicted IPD:  2.29 rad, 130.98 deg\n",
      "approximation error: 4.02 deg 2.98 %\n",
      "predicted ITD: 121.28 ms\n",
      "best CD neuron: 36\n"
     ]
    },
    {
     "data": {
      "text/plain": [
       "<matplotlib.lines.Line2D at 0x7fbb53e88e50>"
      ]
     },
     "execution_count": 1515,
     "metadata": {},
     "output_type": "execute_result"
    },
    {
     "data": {
      "image/png": "[encoded data removed]",
      "text/plain": [
       "<Figure size 1080x72 with 1 Axes>"
      ]
     },
     "metadata": {
      "needs_background": "light"
     },
     "output_type": "display_data"
    },
    {
     "data": {
      "image/png": "[encoded data removed]",
      "text/plain": [
       "<Figure size 1080x72 with 1 Axes>"
      ]
     },
     "metadata": {
      "needs_background": "light"
     },
     "output_type": "display_data"
    },
    {
     "data": {
      "image/png": "[encoded data removed]",
      "text/plain": [
       "<Figure size 1080x144 with 1 Axes>"
      ]
     },
     "metadata": {
      "needs_background": "light"
     },
     "output_type": "display_data"
    },
    {
     "data": {
      "image/png": "[encoded data removed]",
      "text/plain": [
       "<Figure size 1080x144 with 1 Axes>"
      ]
     },
     "metadata": {
      "needs_background": "light"
     },
     "output_type": "display_data"
    }
   ],
   "source": [
    "plt.figure(figsize=(15, 1))\n",
    "histogram_resolution = 100\n",
    "ts_e1 = s0_data['times'][np.where(s0_data['senders']==1)]\n",
    "ts_e2 = s0_data['times'][np.where(s0_data['senders']==2)]\n",
    "s_e1, b1 = np.histogram(ts_e1, histogram_resolution)\n",
    "plt.step(b1[:-1], s_e1, color = colors[0])\n",
    "s_e2, b2 = np.histogram(ts_e2, histogram_resolution)\n",
    "plt.step(b2[:-1], s_e2, color = colors[1])\n",
    "plt.xlim(0,t_simulation)\n",
    "plt.title(\"Input Spikes Rate\")\n",
    "plt.ylabel(\"Spikes\")\n",
    "plt.xlabel(\"Time [ms]\")\n",
    "\n",
    "plt.figure(figsize=(15, 1))\n",
    "plt.plot(s2_data['times'], s2_data['senders'], \".\", color = colors[0])\n",
    "plt.xlim(0,t_simulation)\n",
    "plt.plot(s3_data['times'], s3_data['senders'], \".\", color = colors[1])\n",
    "plt.xlim(0,t_simulation)\n",
    "plt.title(\"Single ears effect on CDs\")\n",
    "plt.ylabel(\"ID\")\n",
    "plt.xlabel(\"Time [ms]\")\n",
    "\n",
    "plt.figure(figsize=(15, 2))\n",
    "plt.plot(s1_data['times'], s1_data['senders'], \".\", color = colors[2])\n",
    "plt.xlim(0,t_simulation)\n",
    "plt.title(\"CDs spikes\")\n",
    "plt.ylabel(\"ID\")\n",
    "plt.xlabel(\"Time [ms]\")\n",
    "\n",
    "plt.figure(figsize=(15, 2))\n",
    "cd_id, spikes = np.unique(s1_data['senders'], return_counts=True)\n",
    "cd_id = cd_id-3\n",
    "plt.plot(cd_id, spikes, '*', color = colors[2])\n",
    "plt.grid()\n",
    "plt.xlim(-1,100)\n",
    "plt.title(\"CDs spikes\")\n",
    "plt.ylabel(\"Number of spikes\")\n",
    "plt.xlabel(\"ID\")\n",
    "\n",
    "#best_cd_id = cd_id[np.argmax(spikes)]\n",
    "#best_cd_id = np.mean(cd_id[np.argwhere(spikes == np.amax(spikes))], dtype=int)\n",
    "best_cd_id = median_high(cd_id[np.argwhere(spikes == np.amax(spikes))])[0]\n",
    "\n",
    "predicted_itd = best_itds[best_cd_id]\n",
    "predicted_ipd = best_ipds[best_cd_id]\n",
    "predicted_ipd_deg = predicted_ipd*180/np.pi\n",
    "\n",
    "ap_error = (abs(ipd-predicted_ipd_deg)/ipd) * 100\n",
    "print(\"real IPD:\", round(ipd*np.pi/180,2), \"rad,\", ipd, \"deg\")\n",
    "print(\"predicted IPD: \", round(predicted_ipd,2), \"rad,\", round(predicted_ipd_deg,2), \"deg\")\n",
    "print(\"approximation error:\", round(ipd-predicted_ipd_deg,2), \"deg\", round(ap_error,2), \"%\")\n",
    "print(\"predicted ITD:\", round(predicted_itd,2), \"ms\")\n",
    "print(\"best CD neuron:\", best_cd_id)\n",
    "plt.axvline(best_cd_id, color = 'r')"
   ]
  },
  {
   "cell_type": "code",
   "execution_count": null,
   "id": "5de3c4a1-6c43-459b-bfac-b21348d28fe7",
   "metadata": {},
   "outputs": [],
   "source": []
  }
 ],
 "metadata": {
  "kernelspec": {
   "display_name": "Python 3 (ipykernel)",
   "language": "python",
   "name": "python3"
  },
  "language_info": {
   "codemirror_mode": {
    "name": "ipython",
    "version": 3
   },
   "file_extension": ".py",
   "mimetype": "text/x-python",
   "name": "python",
   "nbconvert_exporter": "python",
   "pygments_lexer": "ipython3",
   "version": "3.8.10"
  }
 },
 "nbformat": 4,
 "nbformat_minor": 5
}
