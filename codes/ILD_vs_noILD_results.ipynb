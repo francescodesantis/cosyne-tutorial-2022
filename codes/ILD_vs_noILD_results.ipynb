{
 "cells": [
  {
   "cell_type": "code",
   "execution_count": 1,
   "id": "27affea6-7138-44a8-a31b-b2d98b444b43",
   "metadata": {},
   "outputs": [
    {
     "name": "stdout",
     "output_type": "stream",
     "text": [
      "\n",
      "              -- N E S T --\n",
      "  Copyright (C) 2004 The NEST Initiative\n",
      "\n",
      " Version: 3.3\n",
      " Built: May  5 2022 07:35:57\n",
      "\n",
      " This program is provided AS IS and comes with\n",
      " NO WARRANTY. See the file LICENSE for details.\n",
      "\n",
      " Problems or suggestions?\n",
      "   Visit https://www.nest-simulator.org\n",
      "\n",
      " Type 'nest.help()' to find out more about NEST.\n",
      "\n"
     ]
    }
   ],
   "source": [
    "import numpy as np\n",
    "from numpy import random\n",
    "import math\n",
    "import nest\n",
    "import nest.raster_plot\n",
    "import matplotlib.pyplot as plt\n",
    "import scipy.stats as stats\n",
    "from scipy.optimize import curve_fit\n",
    "from sympy.solvers import solve\n",
    "from sympy import Symbol\n",
    "from matplotlib import rcParams "
   ]
  },
  {
   "cell_type": "markdown",
   "id": "9461d224-02a4-4b6a-9db0-9c910bca954b",
   "metadata": {
    "tags": []
   },
   "source": [
    "# C = 1 pf (only 20 Hz)"
   ]
  },
  {
   "cell_type": "code",
   "execution_count": 2,
   "id": "14e19ea0-e3a7-4500-b631-ada61a0893f2",
   "metadata": {},
   "outputs": [],
   "source": [
    "angles = np.linspace(-90, 90, 13)\n",
    "MNTBCs2MSO_weights = [0, -2.0, -4.0, -6.0, -8.0, -10.0, -12.0, -14.0, -16.0, -20.0]"
   ]
  },
  {
   "cell_type": "markdown",
   "id": "dffe04b8-daa3-472d-ae85-29614a48ae39",
   "metadata": {},
   "source": [
    "## SBC ILD VS NO ILD"
   ]
  },
  {
   "cell_type": "code",
   "execution_count": 3,
   "id": "47b62b93-a4e7-47ee-8249-5d5fa93e1d74",
   "metadata": {
    "tags": []
   },
   "outputs": [
    {
     "ename": "OSError",
     "evalue": "/home/ubuntu/cosyne-tutorial-2022/OLD_RESULTS/Results_c_1pF/SBC_r_freq_20 not found.",
     "output_type": "error",
     "traceback": [
      "\u001b[0;31m---------------------------------------------------------------------------\u001b[0m",
      "\u001b[0;31mOSError\u001b[0m                                   Traceback (most recent call last)",
      "\u001b[0;32m/tmp/ipykernel_1410920/3956391495.py\u001b[0m in \u001b[0;36m<module>\u001b[0;34m\u001b[0m\n\u001b[1;32m     16\u001b[0m \u001b[0mfig\u001b[0m\u001b[0;34m,\u001b[0m \u001b[0maxs\u001b[0m \u001b[0;34m=\u001b[0m \u001b[0mplt\u001b[0m\u001b[0;34m.\u001b[0m\u001b[0msubplots\u001b[0m\u001b[0;34m(\u001b[0m\u001b[0;36m1\u001b[0m\u001b[0;34m,\u001b[0m\u001b[0;36m2\u001b[0m\u001b[0;34m,\u001b[0m \u001b[0mfigsize\u001b[0m\u001b[0;34m=\u001b[0m\u001b[0;34m(\u001b[0m\u001b[0;36m19\u001b[0m\u001b[0;34m,\u001b[0m\u001b[0;36m5\u001b[0m\u001b[0;34m)\u001b[0m\u001b[0;34m)\u001b[0m\u001b[0;34m\u001b[0m\u001b[0;34m\u001b[0m\u001b[0m\n\u001b[1;32m     17\u001b[0m \u001b[0;34m\u001b[0m\u001b[0m\n\u001b[0;32m---> 18\u001b[0;31m \u001b[0maxs\u001b[0m\u001b[0;34m[\u001b[0m\u001b[0;36m0\u001b[0m\u001b[0;34m]\u001b[0m\u001b[0;34m.\u001b[0m\u001b[0mplot\u001b[0m\u001b[0;34m(\u001b[0m\u001b[0mangles\u001b[0m\u001b[0;34m,\u001b[0m \u001b[0mnp\u001b[0m\u001b[0;34m.\u001b[0m\u001b[0mloadtxt\u001b[0m\u001b[0;34m(\u001b[0m\u001b[0mpath_1\u001b[0m\u001b[0;34m)\u001b[0m\u001b[0;34m,\u001b[0m \u001b[0;34m'*-'\u001b[0m\u001b[0;34m,\u001b[0m \u001b[0mcolor\u001b[0m \u001b[0;34m=\u001b[0m \u001b[0;34m'lime'\u001b[0m\u001b[0;34m)\u001b[0m\u001b[0;34m\u001b[0m\u001b[0;34m\u001b[0m\u001b[0m\n\u001b[0m\u001b[1;32m     19\u001b[0m \u001b[0maxs\u001b[0m\u001b[0;34m[\u001b[0m\u001b[0;36m0\u001b[0m\u001b[0;34m]\u001b[0m\u001b[0;34m.\u001b[0m\u001b[0mplot\u001b[0m\u001b[0;34m(\u001b[0m\u001b[0mangles\u001b[0m\u001b[0;34m,\u001b[0m \u001b[0mnp\u001b[0m\u001b[0;34m.\u001b[0m\u001b[0mloadtxt\u001b[0m\u001b[0;34m(\u001b[0m\u001b[0mpath_2\u001b[0m\u001b[0;34m)\u001b[0m\u001b[0;34m,\u001b[0m \u001b[0;34m'*-'\u001b[0m\u001b[0;34m,\u001b[0m \u001b[0mcolor\u001b[0m \u001b[0;34m=\u001b[0m \u001b[0;34m'darkgreen'\u001b[0m\u001b[0;34m)\u001b[0m\u001b[0;34m\u001b[0m\u001b[0;34m\u001b[0m\u001b[0m\n\u001b[1;32m     20\u001b[0m \u001b[0maxs\u001b[0m\u001b[0;34m[\u001b[0m\u001b[0;36m0\u001b[0m\u001b[0;34m]\u001b[0m\u001b[0;34m.\u001b[0m\u001b[0mspines\u001b[0m\u001b[0;34m[\u001b[0m\u001b[0;34m'top'\u001b[0m\u001b[0;34m]\u001b[0m\u001b[0;34m.\u001b[0m\u001b[0mset_visible\u001b[0m\u001b[0;34m(\u001b[0m\u001b[0;32mFalse\u001b[0m\u001b[0;34m)\u001b[0m\u001b[0;34m\u001b[0m\u001b[0;34m\u001b[0m\u001b[0m\n",
      "\u001b[0;32m~/.local/lib/python3.8/site-packages/numpy/lib/npyio.py\u001b[0m in \u001b[0;36mloadtxt\u001b[0;34m(fname, dtype, comments, delimiter, converters, skiprows, usecols, unpack, ndmin, encoding, max_rows, like)\u001b[0m\n\u001b[1;32m   1065\u001b[0m             \u001b[0mfname\u001b[0m \u001b[0;34m=\u001b[0m \u001b[0mos_fspath\u001b[0m\u001b[0;34m(\u001b[0m\u001b[0mfname\u001b[0m\u001b[0;34m)\u001b[0m\u001b[0;34m\u001b[0m\u001b[0;34m\u001b[0m\u001b[0m\n\u001b[1;32m   1066\u001b[0m         \u001b[0;32mif\u001b[0m \u001b[0m_is_string_like\u001b[0m\u001b[0;34m(\u001b[0m\u001b[0mfname\u001b[0m\u001b[0;34m)\u001b[0m\u001b[0;34m:\u001b[0m\u001b[0;34m\u001b[0m\u001b[0;34m\u001b[0m\u001b[0m\n\u001b[0;32m-> 1067\u001b[0;31m             \u001b[0mfh\u001b[0m \u001b[0;34m=\u001b[0m \u001b[0mnp\u001b[0m\u001b[0;34m.\u001b[0m\u001b[0mlib\u001b[0m\u001b[0;34m.\u001b[0m\u001b[0m_datasource\u001b[0m\u001b[0;34m.\u001b[0m\u001b[0mopen\u001b[0m\u001b[0;34m(\u001b[0m\u001b[0mfname\u001b[0m\u001b[0;34m,\u001b[0m \u001b[0;34m'rt'\u001b[0m\u001b[0;34m,\u001b[0m \u001b[0mencoding\u001b[0m\u001b[0;34m=\u001b[0m\u001b[0mencoding\u001b[0m\u001b[0;34m)\u001b[0m\u001b[0;34m\u001b[0m\u001b[0;34m\u001b[0m\u001b[0m\n\u001b[0m\u001b[1;32m   1068\u001b[0m             \u001b[0mfencoding\u001b[0m \u001b[0;34m=\u001b[0m \u001b[0mgetattr\u001b[0m\u001b[0;34m(\u001b[0m\u001b[0mfh\u001b[0m\u001b[0;34m,\u001b[0m \u001b[0;34m'encoding'\u001b[0m\u001b[0;34m,\u001b[0m \u001b[0;34m'latin1'\u001b[0m\u001b[0;34m)\u001b[0m\u001b[0;34m\u001b[0m\u001b[0;34m\u001b[0m\u001b[0m\n\u001b[1;32m   1069\u001b[0m             \u001b[0mfh\u001b[0m \u001b[0;34m=\u001b[0m \u001b[0miter\u001b[0m\u001b[0;34m(\u001b[0m\u001b[0mfh\u001b[0m\u001b[0;34m)\u001b[0m\u001b[0;34m\u001b[0m\u001b[0;34m\u001b[0m\u001b[0m\n",
      "\u001b[0;32m~/.local/lib/python3.8/site-packages/numpy/lib/_datasource.py\u001b[0m in \u001b[0;36mopen\u001b[0;34m(path, mode, destpath, encoding, newline)\u001b[0m\n\u001b[1;32m    191\u001b[0m \u001b[0;34m\u001b[0m\u001b[0m\n\u001b[1;32m    192\u001b[0m     \u001b[0mds\u001b[0m \u001b[0;34m=\u001b[0m \u001b[0mDataSource\u001b[0m\u001b[0;34m(\u001b[0m\u001b[0mdestpath\u001b[0m\u001b[0;34m)\u001b[0m\u001b[0;34m\u001b[0m\u001b[0;34m\u001b[0m\u001b[0m\n\u001b[0;32m--> 193\u001b[0;31m     \u001b[0;32mreturn\u001b[0m \u001b[0mds\u001b[0m\u001b[0;34m.\u001b[0m\u001b[0mopen\u001b[0m\u001b[0;34m(\u001b[0m\u001b[0mpath\u001b[0m\u001b[0;34m,\u001b[0m \u001b[0mmode\u001b[0m\u001b[0;34m,\u001b[0m \u001b[0mencoding\u001b[0m\u001b[0;34m=\u001b[0m\u001b[0mencoding\u001b[0m\u001b[0;34m,\u001b[0m \u001b[0mnewline\u001b[0m\u001b[0;34m=\u001b[0m\u001b[0mnewline\u001b[0m\u001b[0;34m)\u001b[0m\u001b[0;34m\u001b[0m\u001b[0;34m\u001b[0m\u001b[0m\n\u001b[0m\u001b[1;32m    194\u001b[0m \u001b[0;34m\u001b[0m\u001b[0m\n\u001b[1;32m    195\u001b[0m \u001b[0;34m\u001b[0m\u001b[0m\n",
      "\u001b[0;32m~/.local/lib/python3.8/site-packages/numpy/lib/_datasource.py\u001b[0m in \u001b[0;36mopen\u001b[0;34m(self, path, mode, encoding, newline)\u001b[0m\n\u001b[1;32m    531\u001b[0m                                       encoding=encoding, newline=newline)\n\u001b[1;32m    532\u001b[0m         \u001b[0;32melse\u001b[0m\u001b[0;34m:\u001b[0m\u001b[0;34m\u001b[0m\u001b[0;34m\u001b[0m\u001b[0m\n\u001b[0;32m--> 533\u001b[0;31m             \u001b[0;32mraise\u001b[0m \u001b[0mIOError\u001b[0m\u001b[0;34m(\u001b[0m\u001b[0;34m\"%s not found.\"\u001b[0m \u001b[0;34m%\u001b[0m \u001b[0mpath\u001b[0m\u001b[0;34m)\u001b[0m\u001b[0;34m\u001b[0m\u001b[0;34m\u001b[0m\u001b[0m\n\u001b[0m\u001b[1;32m    534\u001b[0m \u001b[0;34m\u001b[0m\u001b[0m\n\u001b[1;32m    535\u001b[0m \u001b[0;34m\u001b[0m\u001b[0m\n",
      "\u001b[0;31mOSError\u001b[0m: /home/ubuntu/cosyne-tutorial-2022/OLD_RESULTS/Results_c_1pF/SBC_r_freq_20 not found."
     ]
    },
    {
     "data": {
      "image/png": "[encoded data removed]",
      "text/plain": [
       "<Figure size 1368x360 with 2 Axes>"
      ]
     },
     "metadata": {
      "needs_background": "light"
     },
     "output_type": "display_data"
    }
   ],
   "source": [
    "path_1 = '/home/ubuntu/cosyne-tutorial-2022/OLD_RESULTS/Results_c_1pF/SBC_r_freq_{}'.format(20)\n",
    "path_2 = '/home/ubuntu/cosyne-tutorial-2022/OLD_RESULTS/Results_noILD_c_1pF/SBC_r_freq_{}'.format(20)\n",
    "\n",
    "text_color = 'black' \n",
    "rcParams['text.color'] = text_color \n",
    "rcParams['axes.labelcolor'] = text_color \n",
    "rcParams['xtick.color'] = text_color \n",
    "rcParams['ytick.color'] = text_color \n",
    "plt.rc('font', size=16)          # controls default text sizes \n",
    "plt.rc('axes', titlesize=20)     # fontsize of the axes title \n",
    "plt.rc('axes', labelsize=18)    # fontsize of the x and y labels \n",
    "plt.rc('xtick', labelsize=14)    # fontsize of the tick labels \n",
    "plt.rc('ytick', labelsize=14)    # fontsize of the tick labels \n",
    "plt.rc('legend', fontsize=16)    # legend fontsize \n",
    "plt.rc('figure', titlesize=26)  # fontsize of the figure title\n",
    "fig, axs = plt.subplots(1,2, figsize=(19,5))\n",
    "\n",
    "axs[0].plot(angles, np.loadtxt(path_1), '*-', color = 'lime')\n",
    "axs[0].plot(angles, np.loadtxt(path_2), '*-', color = 'darkgreen')\n",
    "axs[0].spines['top'].set_visible(False)\n",
    "axs[0].set_xticks(angles)\n",
    "axs[0].spines['right'].set_visible(False)\n",
    "axs[0].set_ylabel(\"Averaged Rate [Hz]\")\n",
    "axs[0].set_xlabel(\"Angles [°]\")\n",
    "\n",
    "path_1 = '/home/ubuntu/cosyne-tutorial-2022/OLD_RESULTS/Results_c_1pF/SBC_l_freq_{}'.format(20)\n",
    "path_2 = '/home/ubuntu/cosyne-tutorial-2022/OLD_RESULTS/Results_noILD_c_1pF/SBC_l_freq_{}'.format(20)\n",
    "\n",
    "axs[1].plot(angles, np.loadtxt(path_1), '*-', color = 'pink')\n",
    "axs[1].plot(angles, np.loadtxt(path_2), '*-', color = 'darkmagenta')\n",
    "axs[1].spines['top'].set_visible(False)\n",
    "axs[1].set_xticks(angles)\n",
    "axs[1].spines['right'].set_visible(False)\n",
    "axs[1].set_ylabel(\"Averaged Rate [Hz]\")\n",
    "axs[1].set_xlabel(\"Angles [°]\")"
   ]
  },
  {
   "cell_type": "markdown",
   "id": "4ecba69b-b9ce-4c00-a765-f2e8bb3063db",
   "metadata": {},
   "source": [
    "## GBC ILD VS NO ILD"
   ]
  },
  {
   "cell_type": "code",
   "execution_count": null,
   "id": "8d9bf87d-8fdb-4baf-95e5-a2ef6bf4d6a3",
   "metadata": {},
   "outputs": [],
   "source": [
    "tone = 20"
   ]
  },
  {
   "cell_type": "code",
   "execution_count": null,
   "id": "25bc7bfb-4cb4-46c5-95ca-4df3ddad6ac2",
   "metadata": {
    "tags": []
   },
   "outputs": [],
   "source": [
    "path_1 = '/home/ubuntu/cosyne-tutorial-2022/OLD_RESULTS/Results_c_1pF/GBC_r_freq_{}'.format(tone)\n",
    "path_2 = '/home/ubuntu/cosyne-tutorial-2022/OLD_RESULTS/Results_noILD_c_1pF/GBC_r_freq_{}'.format(tone)\n",
    "\n",
    "text_color = 'black' \n",
    "rcParams['text.color'] = text_color \n",
    "rcParams['axes.labelcolor'] = text_color \n",
    "rcParams['xtick.color'] = text_color \n",
    "rcParams['ytick.color'] = text_color \n",
    "plt.rc('font', size=16)          # controls default text sizes \n",
    "plt.rc('axes', titlesize=20)     # fontsize of the axes title \n",
    "plt.rc('axes', labelsize=18)    # fontsize of the x and y labels \n",
    "plt.rc('xtick', labelsize=14)    # fontsize of the tick labels \n",
    "plt.rc('ytick', labelsize=14)    # fontsize of the tick labels \n",
    "plt.rc('legend', fontsize=16)    # legend fontsize \n",
    "plt.rc('figure', titlesize=26)  # fontsize of the figure title\n",
    "fig, axs = plt.subplots(1,2, figsize=(19,5))\n",
    "\n",
    "axs[0].plot(angles, np.loadtxt(path_1), '*-', color = 'lime')\n",
    "axs[0].plot(angles, np.loadtxt(path_2), '*-', color = 'darkgreen')\n",
    "axs[0].spines['top'].set_visible(False)\n",
    "axs[0].set_xticks(angles)\n",
    "axs[0].spines['right'].set_visible(False)\n",
    "axs[0].set_ylabel(\"Averaged Rate [Hz]\")\n",
    "axs[0].set_xlabel(\"Angles [°]\")\n",
    "\n",
    "path_1 = '/home/ubuntu/cosyne-tutorial-2022/OLD_RESULTS/Results_c_1pF/GBC_l_freq_{}'.format(tone)\n",
    "path_2 = '/home/ubuntu/cosyne-tutorial-2022/OLD_RESULTS/Results_noILD_c_1pF/GBC_l_freq_{}'.format(tone)\n",
    "\n",
    "axs[1].plot(angles, np.loadtxt(path_1), '*-', color = 'pink')\n",
    "axs[1].plot(angles, np.loadtxt(path_2), '*-', color = 'darkmagenta')\n",
    "axs[1].spines['top'].set_visible(False)\n",
    "axs[1].set_xticks(angles)\n",
    "axs[1].spines['right'].set_visible(False)\n",
    "axs[1].set_ylabel(\"Averaged Rate [Hz]\")\n",
    "axs[1].set_xlabel(\"Angles [°]\")"
   ]
  },
  {
   "cell_type": "markdown",
   "id": "97320d0e-e130-4379-8868-80a63c96d57f",
   "metadata": {},
   "source": [
    "## LSO ILD VS NO ILD"
   ]
  },
  {
   "cell_type": "code",
   "execution_count": null,
   "id": "5e348660-5fc0-44dd-8bdc-4648c7709c22",
   "metadata": {
    "tags": []
   },
   "outputs": [],
   "source": [
    "path_1 = '/home/ubuntu/cosyne-tutorial-2022/OLD_RESULTS/Results_c_1pF/LSO_r_freq_{}'.format(tone)\n",
    "path_2 = '/home/ubuntu/cosyne-tutorial-2022/OLD_RESULTS/Results_noILD_c_1pF/LSO_r_freq_{}'.format(tone)\n",
    "\n",
    "text_color = 'black' \n",
    "rcParams['text.color'] = text_color \n",
    "rcParams['axes.labelcolor'] = text_color \n",
    "rcParams['xtick.color'] = text_color \n",
    "rcParams['ytick.color'] = text_color \n",
    "plt.rc('font', size=16)          # controls default text sizes \n",
    "plt.rc('axes', titlesize=20)     # fontsize of the axes title \n",
    "plt.rc('axes', labelsize=18)    # fontsize of the x and y labels \n",
    "plt.rc('xtick', labelsize=14)    # fontsize of the tick labels \n",
    "plt.rc('ytick', labelsize=14)    # fontsize of the tick labels \n",
    "plt.rc('legend', fontsize=16)    # legend fontsize \n",
    "plt.rc('figure', titlesize=26)  # fontsize of the figure title\n",
    "fig, axs = plt.subplots(1,2, figsize=(19,5))\n",
    "\n",
    "axs[0].plot(angles, np.loadtxt(path_1), '*-', color = 'lime')\n",
    "axs[0].plot(angles, np.loadtxt(path_2), '*-', color = 'darkgreen')\n",
    "axs[0].spines['top'].set_visible(False)\n",
    "axs[0].set_xticks(angles)\n",
    "axs[0].spines['right'].set_visible(False)\n",
    "axs[0].set_ylabel(\"Averaged Rate [Hz]\")\n",
    "axs[0].set_xlabel(\"Angles [°]\")\n",
    "\n",
    "path_1 = '/home/ubuntu/cosyne-tutorial-2022/OLD_RESULTS/Results_c_1pF/LSO_l_freq_{}'.format(tone)\n",
    "path_2 = '/home/ubuntu/cosyne-tutorial-2022/OLD_RESULTS/Results_noILD_c_1pF/LSO_l_freq_{}'.format(tone)\n",
    "\n",
    "axs[1].plot(angles, np.loadtxt(path_1), '*-', color = 'pink')\n",
    "axs[1].plot(angles, np.loadtxt(path_2), '*-', color = 'darkmagenta')\n",
    "axs[1].spines['top'].set_visible(False)\n",
    "axs[1].set_xticks(angles)\n",
    "axs[1].spines['right'].set_visible(False)\n",
    "axs[1].set_ylabel(\"Averaged Rate [Hz]\")\n",
    "axs[1].set_xlabel(\"Angles [°]\")"
   ]
  },
  {
   "cell_type": "markdown",
   "id": "56c12667-eecb-48b5-aad0-62e819f832ca",
   "metadata": {},
   "source": [
    "## MSO ILD VS NO ILD"
   ]
  },
  {
   "cell_type": "code",
   "execution_count": null,
   "id": "93bc8f12-656e-44fc-b076-24d3dc39d315",
   "metadata": {
    "tags": []
   },
   "outputs": [],
   "source": [
    "path1 = '/home/ubuntu/cosyne-tutorial-2022/OLD_RESULTS/Results_c_1pF/MSO_l_freq_{}'.format(tone)\n",
    "path2 = '/home/ubuntu/cosyne-tutorial-2022/OLD_RESULTS/Results_noILD_c_1pF/MSO_l_freq_{}'.format(tone)\n",
    "\n",
    "text_color = 'black' \n",
    "rcParams['text.color'] = text_color \n",
    "rcParams['axes.labelcolor'] = text_color \n",
    "rcParams['xtick.color'] = text_color \n",
    "rcParams['ytick.color'] = text_color \n",
    "plt.rc('font', size=16)          # controls default text sizes \n",
    "plt.rc('axes', titlesize=20)     # fontsize of the axes title \n",
    "plt.rc('axes', labelsize=18)    # fontsize of the x and y labels \n",
    "plt.rc('xtick', labelsize=14)    # fontsize of the tick labels \n",
    "plt.rc('ytick', labelsize=14)    # fontsize of the tick labels \n",
    "plt.rc('legend', fontsize=16)    # legend fontsize \n",
    "plt.rc('figure', titlesize=26)  # fontsize of the figure title\n",
    "fig, axs = plt.subplots(5,2, figsize=(12,15), sharex = 'col')\n",
    "fig.tight_layout()\n",
    "\n",
    "for i in range(5):\n",
    "    for j in range(2):\n",
    "        axs[i, j].plot(angles, np.loadtxt(path1)[2*i+j], '*-', color = 'pink')\n",
    "        axs[i, j].plot(angles, np.loadtxt(path2)[2*i+j], '*-', color = 'darkmagenta')\n",
    "        axs[i, j].spines['top'].set_visible(False)\n",
    "        axs[i, j].set_xticks(angles)\n",
    "        axs[i, j].spines['right'].set_visible(False)\n",
    "        axs[i, j].set_title(\"Inibitory Weight = {} S\".format(MNTBCs2MSO_weights[2*i+j]))"
   ]
  },
  {
   "cell_type": "code",
   "execution_count": null,
   "id": "659255f3-5c46-417a-9913-3a4765a728fa",
   "metadata": {
    "tags": []
   },
   "outputs": [],
   "source": [
    "path1 = '/home/ubuntu/cosyne-tutorial-2022/OLD_RESULTS/Results_noILD_c_1pF/MSO_r_freq_{}'.format(tone)\n",
    "path2 = '/home/ubuntu/cosyne-tutorial-2022/OLD_RESULTS/Results_c_1pF/MSO_r_freq_{}'.format(tone)\n",
    "\n",
    "text_color = 'black' \n",
    "rcParams['text.color'] = text_color \n",
    "rcParams['axes.labelcolor'] = text_color \n",
    "rcParams['xtick.color'] = text_color \n",
    "rcParams['ytick.color'] = text_color \n",
    "plt.rc('font', size=16)          # controls default text sizes \n",
    "plt.rc('axes', titlesize=20)     # fontsize of the axes title \n",
    "plt.rc('axes', labelsize=18)    # fontsize of the x and y labels \n",
    "plt.rc('xtick', labelsize=14)    # fontsize of the tick labels \n",
    "plt.rc('ytick', labelsize=14)    # fontsize of the tick labels \n",
    "plt.rc('legend', fontsize=16)    # legend fontsize \n",
    "plt.rc('figure', titlesize=26)  # fontsize of the figure title\n",
    "fig, axs = plt.subplots(5,2, figsize=(12,15), sharex = 'col')\n",
    "fig.tight_layout()\n",
    "\n",
    "for i in range(5):\n",
    "    for j in range(2):\n",
    "        axs[i, j].plot(angles, np.loadtxt(path1)[2*i+j], '*-', color = 'darkgreen')\n",
    "        axs[i, j].plot(angles, np.loadtxt(path2)[2*i+j], '*-', color = 'lime')\n",
    "        axs[i, j].spines['top'].set_visible(False)\n",
    "        axs[i, j].set_xticks(angles)\n",
    "        axs[i, j].spines['right'].set_visible(False)\n",
    "        axs[i, j].set_title(\"Inibitory Weight = {} S\".format(MNTBCs2MSO_weights[2*i+j]))"
   ]
  },
  {
   "cell_type": "markdown",
   "id": "75fdb534-5061-4713-9540-d2582e69938e",
   "metadata": {},
   "source": [
    "# C varying exponentially"
   ]
  },
  {
   "cell_type": "markdown",
   "id": "443e0f6a-a5a7-4828-a941-cbeeaee25741",
   "metadata": {},
   "source": [
    "## SBC ILD VS NO ILD"
   ]
  },
  {
   "cell_type": "code",
   "execution_count": null,
   "id": "125675e7-7802-45f8-a38a-ba7760cb03c7",
   "metadata": {},
   "outputs": [],
   "source": [
    "tone = 20"
   ]
  },
  {
   "cell_type": "code",
   "execution_count": null,
   "id": "157ab3bc-c6a5-4005-993a-5753238982c8",
   "metadata": {
    "tags": []
   },
   "outputs": [],
   "source": [
    "path_1 = '/home/ubuntu/cosyne-tutorial-2022/OLD_RESULTS/Results_c_ve/SBC_r_freq_{}'.format(tone)\n",
    "path_2 = '/home/ubuntu/cosyne-tutorial-2022/OLD_RESULTS/Results_noILD_c_ve/SBC_r_freq_{}'.format(tone)\n",
    "\n",
    "text_color = 'black' \n",
    "rcParams['text.color'] = text_color \n",
    "rcParams['axes.labelcolor'] = text_color \n",
    "rcParams['xtick.color'] = text_color \n",
    "rcParams['ytick.color'] = text_color \n",
    "plt.rc('font', size=16)          # controls default text sizes \n",
    "plt.rc('axes', titlesize=20)     # fontsize of the axes title \n",
    "plt.rc('axes', labelsize=18)    # fontsize of the x and y labels \n",
    "plt.rc('xtick', labelsize=14)    # fontsize of the tick labels \n",
    "plt.rc('ytick', labelsize=14)    # fontsize of the tick labels \n",
    "plt.rc('legend', fontsize=16)    # legend fontsize \n",
    "plt.rc('figure', titlesize=26)  # fontsize of the figure title\n",
    "fig, axs = plt.subplots(1,2, figsize=(19,5))\n",
    "\n",
    "axs[0].plot(angles, np.loadtxt(path_1), '*-', color = 'lime')\n",
    "axs[0].plot(angles, np.loadtxt(path_2), '*-', color = 'darkgreen')\n",
    "axs[0].spines['top'].set_visible(False)\n",
    "axs[0].set_xticks(angles)\n",
    "axs[0].spines['right'].set_visible(False)\n",
    "axs[0].set_ylabel(\"Averaged Rate [Hz]\")\n",
    "axs[0].set_xlabel(\"Angles [°]\")\n",
    "\n",
    "path_1 = '/home/ubuntu/cosyne-tutorial-2022/OLD_RESULTS/Results_c_ve/SBC_l_freq_{}'.format(tone)\n",
    "path_2 = '/home/ubuntu/cosyne-tutorial-2022/OLD_RESULTS/Results_noILD_c_ve/SBC_l_freq_{}'.format(tone)\n",
    "\n",
    "axs[1].plot(angles, np.loadtxt(path_1), '*-', color = 'pink')\n",
    "axs[1].plot(angles, np.loadtxt(path_2), '*-', color = 'darkmagenta')\n",
    "axs[1].spines['top'].set_visible(False)\n",
    "axs[1].set_xticks(angles)\n",
    "axs[1].spines['right'].set_visible(False)\n",
    "axs[1].set_ylabel(\"Averaged Rate [Hz]\")\n",
    "axs[1].set_xlabel(\"Angles [°]\")"
   ]
  },
  {
   "cell_type": "markdown",
   "id": "48d83391-c3c9-4841-8702-04b67f30ee94",
   "metadata": {},
   "source": [
    "## GBC ILD VS NO ILD"
   ]
  },
  {
   "cell_type": "code",
   "execution_count": null,
   "id": "e08bfb0f-4b98-4c93-850a-b47af83cc4ed",
   "metadata": {
    "tags": []
   },
   "outputs": [],
   "source": [
    "path_1 = '/home/ubuntu/cosyne-tutorial-2022/OLD_RESULTS/Results_c_ve/GBC_r_freq_{}'.format(tone)\n",
    "path_2 = '/home/ubuntu/cosyne-tutorial-2022/OLD_RESULTS/Results_noILD_c_ve/GBC_r_freq_{}'.format(tone)\n",
    "\n",
    "text_color = 'black' \n",
    "rcParams['text.color'] = text_color \n",
    "rcParams['axes.labelcolor'] = text_color \n",
    "rcParams['xtick.color'] = text_color \n",
    "rcParams['ytick.color'] = text_color \n",
    "plt.rc('font', size=16)          # controls default text sizes \n",
    "plt.rc('axes', titlesize=20)     # fontsize of the axes title \n",
    "plt.rc('axes', labelsize=18)    # fontsize of the x and y labels \n",
    "plt.rc('xtick', labelsize=14)    # fontsize of the tick labels \n",
    "plt.rc('ytick', labelsize=14)    # fontsize of the tick labels \n",
    "plt.rc('legend', fontsize=16)    # legend fontsize \n",
    "plt.rc('figure', titlesize=26)  # fontsize of the figure title\n",
    "fig, axs = plt.subplots(1,2, figsize=(19,5))\n",
    "\n",
    "axs[0].plot(angles, np.loadtxt(path_1), '*-', color = 'lime')\n",
    "axs[0].plot(angles, np.loadtxt(path_2), '*-', color = 'darkgreen')\n",
    "axs[0].spines['top'].set_visible(False)\n",
    "axs[0].set_xticks(angles)\n",
    "axs[0].spines['right'].set_visible(False)\n",
    "axs[0].set_ylabel(\"Averaged Rate [Hz]\")\n",
    "axs[0].set_xlabel(\"Angles [°]\")\n",
    "\n",
    "path_1 = '/home/ubuntu/cosyne-tutorial-2022/OLD_RESULTS/Results_c_ve/GBC_l_freq_{}'.format(tone)\n",
    "path_2 = '/home/ubuntu/cosyne-tutorial-2022/OLD_RESULTS/Results_noILD_c_ve/GBC_l_freq_{}'.format(tone)\n",
    "\n",
    "axs[1].plot(angles, np.loadtxt(path_1), '*-', color = 'pink')\n",
    "axs[1].plot(angles, np.loadtxt(path_2), '*-', color = 'darkmagenta')\n",
    "axs[1].spines['top'].set_visible(False)\n",
    "axs[1].set_xticks(angles)\n",
    "axs[1].spines['right'].set_visible(False)\n",
    "axs[1].set_ylabel(\"Averaged Rate [Hz]\")\n",
    "axs[1].set_xlabel(\"Angles [°]\")"
   ]
  },
  {
   "cell_type": "markdown",
   "id": "cf7c295d-5976-4d26-9a4a-f4f041dffc1e",
   "metadata": {},
   "source": [
    "## LSO ILD VS NO ILD"
   ]
  },
  {
   "cell_type": "code",
   "execution_count": null,
   "id": "a61372ad-4f83-4947-b475-2b4e3783efd4",
   "metadata": {
    "tags": []
   },
   "outputs": [],
   "source": [
    "path_1 = '/home/ubuntu/cosyne-tutorial-2022/OLD_RESULTS/Results_c_ve/LSO_r_freq_{}'.format(tone)\n",
    "path_2 = '/home/ubuntu/cosyne-tutorial-2022/OLD_RESULTS/Results_noILD_c_ve/LSO_r_freq_{}'.format(tone)\n",
    "\n",
    "text_color = 'black' \n",
    "rcParams['text.color'] = text_color \n",
    "rcParams['axes.labelcolor'] = text_color \n",
    "rcParams['xtick.color'] = text_color \n",
    "rcParams['ytick.color'] = text_color \n",
    "plt.rc('font', size=16)          # controls default text sizes \n",
    "plt.rc('axes', titlesize=20)     # fontsize of the axes title \n",
    "plt.rc('axes', labelsize=18)    # fontsize of the x and y labels \n",
    "plt.rc('xtick', labelsize=14)    # fontsize of the tick labels \n",
    "plt.rc('ytick', labelsize=14)    # fontsize of the tick labels \n",
    "plt.rc('legend', fontsize=16)    # legend fontsize \n",
    "plt.rc('figure', titlesize=26)  # fontsize of the figure title\n",
    "fig, axs = plt.subplots(1,2, figsize=(19,5))\n",
    "\n",
    "axs[0].plot(angles, np.loadtxt(path_1), '*-', color = 'lime')\n",
    "axs[0].plot(angles, np.loadtxt(path_2), '*-', color = 'darkgreen')\n",
    "axs[0].spines['top'].set_visible(False)\n",
    "axs[0].set_xticks(angles)\n",
    "axs[0].spines['right'].set_visible(False)\n",
    "axs[0].set_ylabel(\"Averaged Rate [Hz]\")\n",
    "axs[0].set_xlabel(\"Angles [°]\")\n",
    "\n",
    "path_1 = '/home/ubuntu/cosyne-tutorial-2022/OLD_RESULTS/Results_c_ve/LSO_l_freq_{}'.format(tone)\n",
    "path_2 = '/home/ubuntu/cosyne-tutorial-2022/OLD_RESULTS/Results_noILD_c_ve/LSO_l_freq_{}'.format(tone)\n",
    "\n",
    "axs[1].plot(angles, np.loadtxt(path_1), '*-', color = 'pink')\n",
    "axs[1].plot(angles, np.loadtxt(path_2), '*-', color = 'darkmagenta')\n",
    "axs[1].spines['top'].set_visible(False)\n",
    "axs[1].set_xticks(angles)\n",
    "axs[1].spines['right'].set_visible(False)\n",
    "axs[1].set_ylabel(\"Averaged Rate [Hz]\")\n",
    "axs[1].set_xlabel(\"Angles [°]\")"
   ]
  },
  {
   "cell_type": "markdown",
   "id": "e76da165-6fb0-4b62-b125-bc85cbcd4f1a",
   "metadata": {},
   "source": [
    "## MSO ILD VS NO ILD"
   ]
  },
  {
   "cell_type": "code",
   "execution_count": null,
   "id": "2ad58f5f-948c-4536-86cb-0a04e2780d6b",
   "metadata": {
    "tags": []
   },
   "outputs": [],
   "source": [
    "path1 = '/home/ubuntu/cosyne-tutorial-2022/OLD_RESULTS/Results_c_ve/MSO_l_freq_{}'.format(tone)\n",
    "path2 = '/home/ubuntu/cosyne-tutorial-2022/OLD_RESULTS/Results_noILD_c_ve/MSO_l_freq_{}'.format(tone)\n",
    "\n",
    "text_color = 'black' \n",
    "rcParams['text.color'] = text_color \n",
    "rcParams['axes.labelcolor'] = text_color \n",
    "rcParams['xtick.color'] = text_color \n",
    "rcParams['ytick.color'] = text_color \n",
    "plt.rc('font', size=16)          # controls default text sizes \n",
    "plt.rc('axes', titlesize=20)     # fontsize of the axes title \n",
    "plt.rc('axes', labelsize=18)    # fontsize of the x and y labels \n",
    "plt.rc('xtick', labelsize=14)    # fontsize of the tick labels \n",
    "plt.rc('ytick', labelsize=14)    # fontsize of the tick labels \n",
    "plt.rc('legend', fontsize=16)    # legend fontsize \n",
    "plt.rc('figure', titlesize=26)  # fontsize of the figure title\n",
    "fig, axs = plt.subplots(5,2, figsize=(12,15), sharex = 'col')\n",
    "fig.tight_layout()\n",
    "\n",
    "for i in range(5):\n",
    "    for j in range(2):\n",
    "        axs[i, j].plot(angles, np.loadtxt(path1)[2*i+j], '*-', color = 'pink')\n",
    "        axs[i, j].plot(angles, np.loadtxt(path2)[2*i+j], '*-', color = 'darkmagenta')\n",
    "        axs[i, j].spines['top'].set_visible(False)\n",
    "        axs[i, j].set_xticks(angles)\n",
    "        axs[i, j].spines['right'].set_visible(False)\n",
    "        axs[i, j].set_title(\"Inibitory Weight = {} S\".format(MNTBCs2MSO_weights[2*i+j]))"
   ]
  },
  {
   "cell_type": "code",
   "execution_count": null,
   "id": "ff58d552-bc46-4374-8277-f6cf537ce597",
   "metadata": {
    "tags": []
   },
   "outputs": [],
   "source": [
    "path1 = '/home/ubuntu/cosyne-tutorial-2022/OLD_RESULTS/Results_c_ve/MSO_r_freq_{}'.format(tone)\n",
    "path2 = '/home/ubuntu/cosyne-tutorial-2022/OLD_RESULTS/Results_noILD_c_ve/MSO_r_freq_{}'.format(tone)\n",
    "\n",
    "text_color = 'black' \n",
    "rcParams['text.color'] = text_color \n",
    "rcParams['axes.labelcolor'] = text_color \n",
    "rcParams['xtick.color'] = text_color \n",
    "rcParams['ytick.color'] = text_color \n",
    "plt.rc('font', size=16)          # controls default text sizes \n",
    "plt.rc('axes', titlesize=20)     # fontsize of the axes title \n",
    "plt.rc('axes', labelsize=18)    # fontsize of the x and y labels \n",
    "plt.rc('xtick', labelsize=14)    # fontsize of the tick labels \n",
    "plt.rc('ytick', labelsize=14)    # fontsize of the tick labels \n",
    "plt.rc('legend', fontsize=16)    # legend fontsize \n",
    "plt.rc('figure', titlesize=26)  # fontsize of the figure title\n",
    "fig, axs = plt.subplots(5,2, figsize=(12,15), sharex = 'col')\n",
    "fig.tight_layout()\n",
    "\n",
    "for i in range(5):\n",
    "    for j in range(2):\n",
    "        axs[i, j].plot(angles, np.loadtxt(path1)[2*i+j], '*-', color = 'lime')\n",
    "        axs[i, j].plot(angles, np.loadtxt(path2)[2*i+j], '*-', color = 'darkgreen')\n",
    "        axs[i, j].spines['top'].set_visible(False)\n",
    "        axs[i, j].set_xticks(angles)\n",
    "        axs[i, j].spines['right'].set_visible(False)\n",
    "        axs[i, j].set_title(\"Inibitory Weight = {} S\".format(MNTBCs2MSO_weights[2*i+j]))"
   ]
  }
 ],
 "metadata": {
  "kernelspec": {
   "display_name": "Python 3 (ipykernel)",
   "language": "python",
   "name": "python3"
  },
  "language_info": {
   "codemirror_mode": {
    "name": "ipython",
    "version": 3
   },
   "file_extension": ".py",
   "mimetype": "text/x-python",
   "name": "python",
   "nbconvert_exporter": "python",
   "pygments_lexer": "ipython3",
   "version": "3.8.10"
  }
 },
 "nbformat": 4,
 "nbformat_minor": 5
}
